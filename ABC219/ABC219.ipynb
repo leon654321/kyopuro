{
 "cells": [
  {
   "cell_type": "code",
   "execution_count": null,
   "metadata": {},
   "outputs": [],
   "source": [
    "import sys\n",
    "from collections import defaultdict, Counter, deque\n",
    "from itertools import permutations, combinations, product, combinations_with_replacement, groupby, accumulate\n",
    "import operator\n",
    "from math import sqrt, gcd, factorial\n",
    "# from math import isqrt, prod,comb  # python3.8用(notpypy)\n",
    "#from bisect import bisect_left,bisect_right\n",
    "#from functools import lru_cache,reduce\n",
    "#from heapq import heappush,heappop,heapify,heappushpop,heapreplace\n",
    "#import numpy as np\n",
    "#import networkx as nx\n",
    "#from networkx.utils import UnionFind\n",
    "#from numba import njit, b1, i1, i4, i8, f8\n",
    "#from scipy.sparse import csr_matrix\n",
    "#from scipy.sparse.csgraph import shortest_path, floyd_warshall, dijkstra, bellman_ford, johnson, NegativeCycleError\n",
    "# numba例 @njit(i1(i4[:], i8[:, :]),cache=True) 引数i4配列、i8 2次元配列,戻り値i1\n",
    "def input(): return sys.stdin.readline().rstrip()\n",
    "def intput() : return map(int,input())\n",
    "def divceil(n, k): return 1+(n-1)//k  # n/kの切り上げを返す\n",
    "\n",
    "import sys\n",
    "input=sys.stdin.readline\n",
    "sys.setrecursionlimit((10 ** 9))  # 変更\n",
    "from functools import lru_cache\n",
    "\n",
    "@lru_cache(maxsize=None)\n",
    "\n",
    "=int(input())\n",
    "=map(int,input().split())\n",
    "=list(map(int,input().split()))"
   ]
  },
  {
   "cell_type": "code",
   "execution_count": null,
   "metadata": {},
   "outputs": [],
   "source": [
    "#A\n",
    "X=int(input())\n",
    "\n",
    "if X<40:\n",
    "    print(40-X)\n",
    "elif X<70:\n",
    "    print(70-X)\n",
    "elif X<90:\n",
    "    print(90-X)\n",
    "else:\n",
    "    print(\"expert\")"
   ]
  },
  {
   "cell_type": "code",
   "execution_count": null,
   "metadata": {},
   "outputs": [],
   "source": [
    "#B\n",
    "S1=input()\n",
    "S2=input()\n",
    "S3=input()\n",
    "\n",
    "T=input()\n",
    "\n",
    "ans=\"\"\n",
    "\n",
    "for i in range(len(T)):\n",
    "    if T[i]==\"1\":\n",
    "        ans+=S1\n",
    "    elif T[i] ==\"2\":\n",
    "        ans+=S2\n",
    "    elif T[i] ==\"3\":\n",
    "        ans+=S3\n",
    "        \n",
    "print(ans)"
   ]
  },
  {
   "cell_type": "code",
   "execution_count": null,
   "metadata": {},
   "outputs": [],
   "source": [
    "#C\n",
    "X=input()\n",
    "alp=\"abcdefghijklmnopqrstuvwxyz\"\n",
    "N=int(input())\n",
    "\n",
    "ans=[]\n",
    "\n",
    "for _ in range(N):\n",
    "    s=input()\n",
    "    L=len(s)\n",
    "    for i in range(L):\n",
    "        num = X.find(s[i])\n",
    "        s=s[:i]+alp[num]+s[i+1:]\n",
    "        \n",
    "    ans.append(s)\n",
    "\n",
    "ans.sort()\n",
    "\n",
    "for i in range(N):\n",
    "    s=ans[i]\n",
    "    L=len(s)\n",
    "    for j in range(L):\n",
    "        num = alp.find(s[j])\n",
    "        s=s[:j]+X[num]+s[j+1:]\n",
    "    ans[i]=s\n",
    "\n",
    "        \n",
    "for i in ans:\n",
    "    print(i)"
   ]
  },
  {
   "cell_type": "code",
   "execution_count": null,
   "metadata": {},
   "outputs": [],
   "source": [
    "#D\n",
    "N=int(input())\n",
    "X,Y=map(int,input().split())\n",
    "\n",
    "ls=[]\n",
    "x=0\n",
    "y=0\n",
    "for _ in range(N):\n",
    "    c=list(map(int,input().split()))\n",
    "    ls.append(c)\n",
    "    x+=c[0]\n",
    "    y+=c[1]\n",
    "    \n",
    "if not (x>=X and y>=Y):\n",
    "    print(-1)\n",
    "    break\n",
    "    \n",
    "\n",
    "\n",
    "    "
   ]
  },
  {
   "cell_type": "code",
   "execution_count": null,
   "metadata": {},
   "outputs": [],
   "source": [
    "#E\n"
   ]
  },
  {
   "cell_type": "code",
   "execution_count": null,
   "metadata": {},
   "outputs": [],
   "source": [
    "#F\n"
   ]
  },
  {
   "cell_type": "code",
   "execution_count": 1,
   "metadata": {},
   "outputs": [],
   "source": [
    "#G\n"
   ]
  },
  {
   "cell_type": "code",
   "execution_count": null,
   "metadata": {},
   "outputs": [],
   "source": [
    "#H\n"
   ]
  }
 ],
 "metadata": {
  "kernelspec": {
   "display_name": "Python 3",
   "language": "python",
   "name": "python3"
  },
  "language_info": {
   "codemirror_mode": {
    "name": "ipython",
    "version": 3
   },
   "file_extension": ".py",
   "mimetype": "text/x-python",
   "name": "python",
   "nbconvert_exporter": "python",
   "pygments_lexer": "ipython3",
   "version": "3.8.5"
  }
 },
 "nbformat": 4,
 "nbformat_minor": 4
}
